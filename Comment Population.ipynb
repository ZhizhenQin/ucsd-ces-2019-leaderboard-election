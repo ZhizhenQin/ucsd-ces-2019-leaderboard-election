{
 "cells": [
  {
   "cell_type": "code",
   "execution_count": 1,
   "metadata": {
    "scrolled": true
   },
   "outputs": [],
   "source": [
    "from __future__ import print_function\n",
    "import gspread\n",
    "from oauth2client.service_account import ServiceAccountCredentials\n",
    "import pandas as pd\n",
    "import json\n",
    "from pprint import pprint\n",
    "import csv"
   ]
  },
  {
   "cell_type": "code",
   "execution_count": 2,
   "metadata": {},
   "outputs": [],
   "source": [
    "SECRETS_FILE = \"authentication.json\"\n",
    "SPREADSHEET = \"Candidate Evaluation--Officer (Responses)\""
   ]
  },
  {
   "cell_type": "code",
   "execution_count": 3,
   "metadata": {},
   "outputs": [],
   "source": [
    "# use creds to create a client to interact with the Google Drive API\n",
    "scope = ['https://spreadsheets.google.com/feeds',\n",
    "         'https://www.googleapis.com/auth/drive']\n",
    "creds = ServiceAccountCredentials.from_json_keyfile_name(SECRETS_FILE, scope)"
   ]
  },
  {
   "cell_type": "code",
   "execution_count": 4,
   "metadata": {},
   "outputs": [],
   "source": [
    "client = gspread.authorize(creds)"
   ]
  },
  {
   "cell_type": "code",
   "execution_count": 5,
   "metadata": {},
   "outputs": [],
   "source": [
    "evaluation_officer = client.open(SPREADSHEET)"
   ]
  },
  {
   "cell_type": "code",
   "execution_count": 6,
   "metadata": {
    "scrolled": true
   },
   "outputs": [],
   "source": [
    "officer_sheet = evaluation_officer.sheet1"
   ]
  },
  {
   "cell_type": "code",
   "execution_count": 7,
   "metadata": {},
   "outputs": [],
   "source": [
    "officer_data = officer_sheet.get_all_records()"
   ]
  },
  {
   "cell_type": "code",
   "execution_count": 8,
   "metadata": {},
   "outputs": [],
   "source": [
    "CANDIDATES = [\"Xuezheng Wang\", \"Chen Ling\", \"Shuyang Miao\", \"Shantao Yi\", \n",
    "              \"Cheng Gong\", \"Wanju Gu\", \"Zhixiong Li\", \"Zixin Zeng\", \n",
    "              \"Weiwen Hong\", \"Ziyan Cui\", \"Weihao Zeng\"]"
   ]
  },
  {
   "cell_type": "code",
   "execution_count": 9,
   "metadata": {},
   "outputs": [],
   "source": [
    "DEPT = [\"Strategy\", \"Technology\", \"Internal Affairs\", \"Career Development\", \"Inspiration\", \n",
    "        \"Business Development\", \"Meida\", \"New Dept./Committee\"]"
   ]
  },
  {
   "cell_type": "code",
   "execution_count": 10,
   "metadata": {},
   "outputs": [],
   "source": [
    "LB_MEMBERS = [\"Zhiyuan Chen\", \"Shuyang Liu\", \"Ruolei Dong\", \"Xinyu Liu\", \n",
    "              \"Chen Ling\", \"Zhixiong Li\", \"Zhizhen Qin\", \"Shantao Yi\"]"
   ]
  },
  {
   "cell_type": "code",
   "execution_count": 11,
   "metadata": {},
   "outputs": [],
   "source": [
    "LB_TO_DEPTS = {\n",
    "    \"Zhixiong Li\": [\"Internal Affairs\", \"Inspiration\"],\n",
    "    \"Shantao Yi\": [\"Career Development\"],\n",
    "    \"Chen Ling\": [\"Inspiration\"],\n",
    "    \"Zhiyuan Chen\": [\"Business Development\"],\n",
    "}"
   ]
  },
  {
   "cell_type": "code",
   "execution_count": 12,
   "metadata": {},
   "outputs": [],
   "source": [
    "candidate_comments = []\n",
    "for d in officer_data:\n",
    "    candidate_comments.append({\n",
    "        \"candidate\": d['Candidate\\'s Name'],\n",
    "        \"department\": d['Election Department'],\n",
    "        \"recommend\": d['Do you recommend this person overall?'],\n",
    "        \"comment\": d['Please write some comments on the candidate you are reviewing (200 characters minimum). ']\n",
    "    })"
   ]
  },
  {
   "cell_type": "code",
   "execution_count": 13,
   "metadata": {},
   "outputs": [],
   "source": [
    "candidate_comments = sorted(candidate_comments, key=lambda elem: \"%s %s\" % (elem['department'], elem['candidate'])) "
   ]
  },
  {
   "cell_type": "code",
   "execution_count": 14,
   "metadata": {},
   "outputs": [],
   "source": [
    "for l in LB_MEMBERS:\n",
    "    if l in LB_TO_DEPTS:\n",
    "        comment_for_l = []\n",
    "        for comment in candidate_comments:\n",
    "            if comment['candidate'] != l and comment['department'] not in LB_TO_DEPTS[l]:\n",
    "                comment_for_l.append(comment)\n",
    "    else:\n",
    "        comment_for_l = candidate_comments\n",
    "    \n",
    "        \n",
    "    with open(\"{}.csv\".format(l), 'wb') as f:\n",
    "        keys = ['candidate', 'department', 'comment', 'recommend']\n",
    "        dict_writer = csv.DictWriter(f, keys)\n",
    "        dict_writer.writeheader()\n",
    "        dict_writer.writerows(comment_for_l)"
   ]
  }
 ],
 "metadata": {
  "kernelspec": {
   "display_name": "Python 2",
   "language": "python",
   "name": "python2"
  },
  "language_info": {
   "codemirror_mode": {
    "name": "ipython",
    "version": 2
   },
   "file_extension": ".py",
   "mimetype": "text/x-python",
   "name": "python",
   "nbconvert_exporter": "python",
   "pygments_lexer": "ipython2",
   "version": "2.7.16"
  }
 },
 "nbformat": 4,
 "nbformat_minor": 2
}

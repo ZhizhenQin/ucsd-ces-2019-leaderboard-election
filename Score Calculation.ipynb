{
 "cells": [
  {
   "cell_type": "code",
   "execution_count": 1,
   "metadata": {},
   "outputs": [],
   "source": [
    "from __future__ import print_function\n",
    "import gspread\n",
    "from oauth2client.service_account import ServiceAccountCredentials\n",
    "import pandas as pd\n",
    "import json\n",
    "from pprint import pprint\n",
    "import numpy as np\n",
    "import csv"
   ]
  },
  {
   "cell_type": "code",
   "execution_count": 2,
   "metadata": {},
   "outputs": [],
   "source": [
    "from candidate import Candidate"
   ]
  },
  {
   "cell_type": "code",
   "execution_count": 3,
   "metadata": {},
   "outputs": [],
   "source": [
    "SECRETS_FILE = \"authentication.json\"\n",
    "OFFICER_SPREADSHEET = \"Candidate Evaluation--Officer (Responses)\"\n",
    "LEAD_SPREADSHEET = \"Candidate Evaluation--Lead (Responses)\"\n",
    "LB_SPREADSHEET = \"Candidate Evaluation--Leaderboard (Responses)\""
   ]
  },
  {
   "cell_type": "code",
   "execution_count": 4,
   "metadata": {},
   "outputs": [],
   "source": [
    "# use creds to create a client to interact with the Google Drive API\n",
    "scope = ['https://spreadsheets.google.com/feeds',\n",
    "         'https://www.googleapis.com/auth/drive']\n",
    "creds = ServiceAccountCredentials.from_json_keyfile_name(SECRETS_FILE, scope)"
   ]
  },
  {
   "cell_type": "code",
   "execution_count": 5,
   "metadata": {},
   "outputs": [],
   "source": [
    "client = gspread.authorize(creds)"
   ]
  },
  {
   "cell_type": "code",
   "execution_count": 6,
   "metadata": {},
   "outputs": [],
   "source": [
    "officer_data = client.open(OFFICER_SPREADSHEET).sheet1.get_all_records()\n",
    "lead_data = client.open(LEAD_SPREADSHEET).sheet1.get_all_records()\n",
    "lb_data = client.open(LB_SPREADSHEET).sheet1.get_all_records()"
   ]
  },
  {
   "cell_type": "code",
   "execution_count": 7,
   "metadata": {},
   "outputs": [],
   "source": [
    "CANDIDATES = [\"Xuezheng Wang\", \"Chen Ling\", \"Shuyang Miao\", \"Shantao Yi\", \n",
    "              \"Cheng Gong\", \"Wanju Gu\", \"Zhixiong Li\", \"Zixin Zeng\", \n",
    "              \"Weiwen Hong\", \"Ziyan Cui\", \"Weihao Zeng\"]"
   ]
  },
  {
   "cell_type": "code",
   "execution_count": 8,
   "metadata": {},
   "outputs": [],
   "source": [
    "DEPT = [\"Strategy\", \"Technology\", \"Internal Affairs\", \"Career Development\", \"Inspiration\", \n",
    "        \"Business Development\", \"Meida\", \"New Dept./Committee\"]"
   ]
  },
  {
   "cell_type": "code",
   "execution_count": 9,
   "metadata": {},
   "outputs": [],
   "source": [
    "def get_c_d(response):\n",
    "    return \"{}-{}\".format(response[\"Election Department\"], response[\"Candidate's Name\"])"
   ]
  },
  {
   "cell_type": "code",
   "execution_count": 10,
   "metadata": {},
   "outputs": [],
   "source": [
    "def construct_c_d_list(officer_data, lead_data, lb_data):\n",
    "    c_d_set = set()\n",
    "    for r in officer_data:\n",
    "        c_d_set.add(get_c_d(r))\n",
    "    for r in lead_data:\n",
    "        c_d_set.add(get_c_d(r))\n",
    "    for r in lb_data:\n",
    "        c_d_set.add(get_c_d(r))\n",
    "    \n",
    "    return list(c_d_set)"
   ]
  },
  {
   "cell_type": "code",
   "execution_count": 11,
   "metadata": {},
   "outputs": [],
   "source": [
    "c_d_list = construct_c_d_list(officer_data, lead_data, lb_data)"
   ]
  },
  {
   "cell_type": "code",
   "execution_count": 12,
   "metadata": {},
   "outputs": [],
   "source": [
    "def initializa_candidates(c_d_list):\n",
    "    candidate_dict = {}\n",
    "    for k in c_d_list:\n",
    "        dept = k.split('-')[0]\n",
    "        name = k.split('-')[1]\n",
    "        candidate_dict[k] = Candidate(name, dept)\n",
    "    return candidate_dict"
   ]
  },
  {
   "cell_type": "code",
   "execution_count": 13,
   "metadata": {},
   "outputs": [],
   "source": [
    "candidate_dict = initializa_candidates(c_d_list)"
   ]
  },
  {
   "cell_type": "code",
   "execution_count": 14,
   "metadata": {},
   "outputs": [],
   "source": [
    "for d in officer_data:\n",
    "    name = d[\"Candidate's Name\"]\n",
    "    dept = d[\"Election Department\"]\n",
    "    candidate = candidate_dict[\"{}-{}\".format(dept, name)]\n",
    "    candidate.add_officer_score(d)"
   ]
  },
  {
   "cell_type": "code",
   "execution_count": 15,
   "metadata": {},
   "outputs": [],
   "source": [
    "for d in lead_data:\n",
    "    name = d[\"Candidate's Name\"]\n",
    "    dept = d[\"Election Department\"]\n",
    "    candidate = candidate_dict[\"{}-{}\".format(dept, name)]\n",
    "    candidate.add_lead_score(d)"
   ]
  },
  {
   "cell_type": "code",
   "execution_count": 16,
   "metadata": {},
   "outputs": [],
   "source": [
    "for d in lb_data:\n",
    "    name = d[\"Candidate's Name\"]\n",
    "    dept = d[\"Election Department\"]\n",
    "    candidate = candidate_dict[\"{}-{}\".format(dept, name)]\n",
    "    candidate.add_lb_score(d)"
   ]
  },
  {
   "cell_type": "code",
   "execution_count": 17,
   "metadata": {},
   "outputs": [],
   "source": [
    "results = {}\n",
    "for k,v in candidate_dict.items():\n",
    "    v.calculate_scores()\n",
    "    results[k] = v.score"
   ]
  },
  {
   "cell_type": "code",
   "execution_count": 18,
   "metadata": {},
   "outputs": [],
   "source": [
    "result_list = []\n",
    "for k,v in results.items():\n",
    "    department = k.split('-')[0]\n",
    "    name = k.split('-')[1]\n",
    "    score = v\n",
    "    result_list.append({\n",
    "        \"department\": department,\n",
    "        \"name\": name,\n",
    "        \"score\": score,\n",
    "    })"
   ]
  },
  {
   "cell_type": "code",
   "execution_count": 19,
   "metadata": {},
   "outputs": [],
   "source": [
    "result_list = sorted(result_list, key=lambda elem: \"%s %s\" % (elem['department'], elem['score'])) "
   ]
  },
  {
   "cell_type": "code",
   "execution_count": 20,
   "metadata": {},
   "outputs": [],
   "source": [
    "with open(\"result.csv\", 'wb') as f:\n",
    "    keys = ['department', 'name', 'score']\n",
    "    dict_writer = csv.DictWriter(f, keys)\n",
    "    dict_writer.writeheader()\n",
    "    dict_writer.writerows(result_list)"
   ]
  },
  {
   "cell_type": "code",
   "execution_count": 21,
   "metadata": {
    "scrolled": true
   },
   "outputs": [
    {
     "name": "stdout",
     "output_type": "stream",
     "text": [
      "[]\n"
     ]
    }
   ],
   "source": [
    "pprint(result_list)"
   ]
  }
 ],
 "metadata": {
  "kernelspec": {
   "display_name": "Python 2",
   "language": "python",
   "name": "python2"
  },
  "language_info": {
   "codemirror_mode": {
    "name": "ipython",
    "version": 2
   },
   "file_extension": ".py",
   "mimetype": "text/x-python",
   "name": "python",
   "nbconvert_exporter": "python",
   "pygments_lexer": "ipython2",
   "version": "2.7.16"
  }
 },
 "nbformat": 4,
 "nbformat_minor": 2
}
